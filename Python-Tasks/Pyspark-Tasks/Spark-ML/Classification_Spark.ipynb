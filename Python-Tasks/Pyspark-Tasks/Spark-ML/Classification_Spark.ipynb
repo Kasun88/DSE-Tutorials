{
 "cells": [
  {
   "cell_type": "code",
   "execution_count": 19,
   "metadata": {},
   "outputs": [],
   "source": [
    "from pyspark.sql import SQLContext\n",
    "from pyspark.sql import DataFrameNaFunctions\n",
    "from pyspark.ml import Pipeline\n",
    "from pyspark.ml.classification import DecisionTreeClassifier\n",
    "from pyspark.ml.feature import Binarizer\n",
    "from pyspark.ml.feature import VectorAssembler,StringIndexer,VectorIndexer"
   ]
  },
  {
   "cell_type": "code",
   "execution_count": 2,
   "metadata": {},
   "outputs": [],
   "source": [
    "from pyspark import SparkConf, SparkContext\n",
    "\n",
    "sc = SparkContext(conf=SparkConf().setAppName(\"MyApp\").setMaster(\"local[2]\"))"
   ]
  },
  {
   "cell_type": "code",
   "execution_count": 3,
   "metadata": {},
   "outputs": [],
   "source": [
    "sqlContext=SQLContext(sc)"
   ]
  },
  {
   "cell_type": "code",
   "execution_count": 8,
   "metadata": {},
   "outputs": [],
   "source": [
    "df=sqlContext.read.load(\"daily_weather.csv\",format=\"com.databricks.spark.csv\",header='true',inferSchema=\"true\")"
   ]
  },
  {
   "cell_type": "code",
   "execution_count": 9,
   "metadata": {},
   "outputs": [],
   "source": [
    "featureColumns=[\n",
    " 'air_pressure_9am',\n",
    " 'air_temp_9am',\n",
    " 'avg_wind_direction_9am',\n",
    " 'avg_wind_speed_9am',\n",
    " 'max_wind_direction_9am',\n",
    " 'max_wind_speed_9am',\n",
    " 'rain_accumulation_9am',\n",
    " 'rain_duration_9am']"
   ]
  },
  {
   "cell_type": "code",
   "execution_count": 10,
   "metadata": {},
   "outputs": [],
   "source": [
    "df=df.drop('number')\n"
   ]
  },
  {
   "cell_type": "code",
   "execution_count": 11,
   "metadata": {},
   "outputs": [],
   "source": [
    "# Remove All the rows with missing data\n",
    "df=df.na.drop()"
   ]
  },
  {
   "cell_type": "code",
   "execution_count": 12,
   "metadata": {},
   "outputs": [
    {
     "data": {
      "text/plain": [
       "(1064, 10)"
      ]
     },
     "execution_count": 12,
     "metadata": {},
     "output_type": "execute_result"
    }
   ],
   "source": [
    "df.count(),len(df.columns)"
   ]
  },
  {
   "cell_type": "code",
   "execution_count": 16,
   "metadata": {},
   "outputs": [],
   "source": [
    "#Make new daraframe for low and not_low relative humidty (binarize one)\n",
    "\n",
    "binarizer=Binarizer(threshold=24.99999,inputCol='relative_humidity_3pm',outputCol='label')\n",
    "binarizeDf=binarizer.transform(df)"
   ]
  },
  {
   "cell_type": "code",
   "execution_count": 24,
   "metadata": {},
   "outputs": [
    {
     "name": "stdout",
     "output_type": "stream",
     "text": [
      "+---------------------+-----+\n",
      "|relative_humidity_3pm|label|\n",
      "+---------------------+-----+\n",
      "|   36.160000000000494|  1.0|\n",
      "|     19.4265967985621|  0.0|\n",
      "|   14.460000000000045|  0.0|\n",
      "|   12.742547353761848|  0.0|\n",
      "|    76.74000000000046|  1.0|\n",
      "+---------------------+-----+\n",
      "only showing top 5 rows\n",
      "\n"
     ]
    }
   ],
   "source": [
    "binarizeDf.select('relative_humidity_3pm','label').show(5)"
   ]
  },
  {
   "cell_type": "code",
   "execution_count": 27,
   "metadata": {},
   "outputs": [],
   "source": [
    "# Aggreagte features used for the prediction in to a singal column\n",
    "\n",
    "assembler=VectorAssembler(inputCols=featureColumns,outputCol=\"features\")\n",
    "assembled=assembler.transform(binarizeDf)"
   ]
  },
  {
   "cell_type": "code",
   "execution_count": 33,
   "metadata": {},
   "outputs": [
    {
     "name": "stdout",
     "output_type": "stream",
     "text": [
      "+--------------------+-----+\n",
      "|            features|label|\n",
      "+--------------------+-----+\n",
      "|[918.060000000008...|  1.0|\n",
      "|[917.347688117709...|  0.0|\n",
      "|[923.040000000008...|  0.0|\n",
      "|[920.502751175919...|  0.0|\n",
      "+--------------------+-----+\n",
      "only showing top 4 rows\n",
      "\n"
     ]
    }
   ],
   "source": [
    "assembled.select('features','label').show(4)"
   ]
  },
  {
   "cell_type": "code",
   "execution_count": 56,
   "metadata": {},
   "outputs": [],
   "source": [
    "(trainingData,testingData)=assembled.randomSplit([0.8,0.2],seed=13234)"
   ]
  },
  {
   "cell_type": "code",
   "execution_count": 57,
   "metadata": {},
   "outputs": [
    {
     "data": {
      "text/plain": [
       "(742, 322)"
      ]
     },
     "execution_count": 57,
     "metadata": {},
     "output_type": "execute_result"
    }
   ],
   "source": [
    "trainingData.count(),testingData.count()"
   ]
  },
  {
   "cell_type": "code",
   "execution_count": 42,
   "metadata": {},
   "outputs": [],
   "source": [
    "dt=DecisionTreeClassifier(labelCol='label',featuresCol='features',maxDepth=5,minInstancesPerNode=20,impurity=\"gini\")"
   ]
  },
  {
   "cell_type": "code",
   "execution_count": 44,
   "metadata": {},
   "outputs": [],
   "source": [
    "pipeline=Pipeline(stages=[dt])\n",
    "model=pipeline.fit(trainingData)"
   ]
  },
  {
   "cell_type": "code",
   "execution_count": 46,
   "metadata": {},
   "outputs": [],
   "source": [
    "predictions=model.transform(testingData)"
   ]
  },
  {
   "cell_type": "code",
   "execution_count": 55,
   "metadata": {},
   "outputs": [
    {
     "name": "stdout",
     "output_type": "stream",
     "text": [
      "+--------------------+-----+----------+\n",
      "|            features|label|prediction|\n",
      "+--------------------+-----+----------+\n",
      "|[908.970000000004...|  1.0|       1.0|\n",
      "|[911.450000000007...|  1.0|       0.0|\n",
      "|[911.600000000008...|  1.0|       1.0|\n",
      "|[911.680000000008...|  1.0|       1.0|\n",
      "|[911.700000000011...|  1.0|       1.0|\n",
      "|[912.640000000008...|  1.0|       1.0|\n",
      "|[912.990000000012...|  1.0|       1.0|\n",
      "|[913.200000000008...|  1.0|       1.0|\n",
      "|[913.660000000007...|  1.0|       0.0|\n",
      "|[913.700000000008...|  1.0|       1.0|\n",
      "|[913.700000000010...|  1.0|       1.0|\n",
      "|[914.300000000007...|  1.0|       1.0|\n",
      "|[914.360000000011...|  1.0|       1.0|\n",
      "|[914.600000000007...|  1.0|       1.0|\n",
      "|[914.621061536155...|  0.0|       1.0|\n",
      "|[914.670000000008...|  1.0|       1.0|\n",
      "|[914.700000000008...|  1.0|       1.0|\n",
      "|[914.800000000004...|  1.0|       1.0|\n",
      "|[914.830000000006...|  0.0|       0.0|\n",
      "|[914.860000000008...|  1.0|       1.0|\n",
      "+--------------------+-----+----------+\n",
      "only showing top 20 rows\n",
      "\n"
     ]
    }
   ],
   "source": [
    "predictions.select('features','label','prediction').show(20)"
   ]
  },
  {
   "cell_type": "code",
   "execution_count": 66,
   "metadata": {},
   "outputs": [],
   "source": [
    "# Save Predictions to a CSV File\n",
    "predictions.select(\"prediction\", \"label\").toPandas().to_csv('predictions.csv', index=False)\n",
    "\n",
    "\n",
    "#Below one is Not Worked\n",
    "predictions.select(\"prediction\", \"label\").write.save(path=\"file:///home/cloudera/Downloads/big-data-4/predictions.csv\",\n",
    "                                                     format=\"com.databricks.spark.csv\",\n",
    "                                                     header='true')"
   ]
  },
  {
   "cell_type": "code",
   "execution_count": null,
   "metadata": {},
   "outputs": [],
   "source": []
  }
 ],
 "metadata": {
  "kernelspec": {
   "display_name": "Python 3",
   "language": "python",
   "name": "python3"
  },
  "language_info": {
   "codemirror_mode": {
    "name": "ipython",
    "version": 3
   },
   "file_extension": ".py",
   "mimetype": "text/x-python",
   "name": "python",
   "nbconvert_exporter": "python",
   "pygments_lexer": "ipython3",
   "version": "3.6.10"
  }
 },
 "nbformat": 4,
 "nbformat_minor": 4
}
