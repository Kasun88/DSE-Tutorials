{
 "cells": [
  {
   "cell_type": "code",
   "execution_count": 1,
   "metadata": {},
   "outputs": [],
   "source": [
    "import random\n",
    "import time\n",
    "from datetime import datetime \n",
    "from datetime import timedelta \n",
    "from pyspark.sql import SQLContext\n",
    "from pyspark import SparkConf, SparkContext\n",
    "from pyspark.sql.types import StructType\n",
    "from pyspark.sql.types import StructField\n",
    "from pyspark.sql.types import StringType\n",
    "from pyspark.sql.types import DateType\n",
    "import names\n",
    "from random import randrange\n",
    "\n",
    "\n",
    "sc = SparkContext(conf=SparkConf().setAppName(\"Random Date Generator\").setMaster(\"local[2]\"))\n",
    "sqlContext=SQLContext(sc)\n"
   ]
  },
  {
   "cell_type": "code",
   "execution_count": 2,
   "metadata": {},
   "outputs": [],
   "source": [
    "recruited = \"1/1/2000 1:00 AM\"\n",
    "\n",
    "def recruited_date():\n",
    "    \n",
    "    format = '%m/%d/%Y %I:%M %p'\n",
    "    \n",
    "    fromTime = time.mktime(time.strptime(\"1/1/2000 1:00 AM\", format))\n",
    "    toRecruited = time.mktime(time.strptime(\"1/1/2019 11:59 PM\", format))\n",
    "\n",
    "    ptime = fromTime + random.random() * (toRecruited - fromTime)\n",
    "    \n",
    "    global recruited \n",
    "    recruited = str(time.strftime(format, time.localtime(ptime)))\n",
    "\n",
    "    return  recruited"
   ]
  },
  {
   "cell_type": "code",
   "execution_count": 3,
   "metadata": {},
   "outputs": [],
   "source": [
    "def retired_date(recruited_date):\n",
    "    format = '%m/%d/%Y %I:%M %p'\n",
    "    \n",
    "    fromTime = time.mktime(time.strptime(recruited_date, format))\n",
    "      \n",
    "    end =  datetime.now().strftime(format)\n",
    "    \n",
    "    etime = time.mktime(time.strptime(str(end), format))\n",
    "    \n",
    "    ptime = fromTime + random.random() * (etime - fromTime)\n",
    "\n",
    "    return time.strftime(format, time.localtime(ptime))\n",
    "    "
   ]
  },
  {
   "cell_type": "code",
   "execution_count": 4,
   "metadata": {},
   "outputs": [],
   "source": [
    "schema = StructType([StructField(\"id\", StringType(), True),\n",
    "                    StructField(\"Customer Name\", StringType(), True),\n",
    "                    StructField(\"Recruited Date\", StringType(), True),\n",
    "                    StructField(\"Retired Date\", StringType(), True)\n",
    "                   ])"
   ]
  },
  {
   "cell_type": "code",
   "execution_count": 5,
   "metadata": {},
   "outputs": [],
   "source": [
    "rdd= sc.parallelize(list(range(100))).map(lambda x :(x,names.get_full_name(gender=['male','female'][randrange(2)]),recruited_date(),retired_date(recruited)))"
   ]
  },
  {
   "cell_type": "code",
   "execution_count": 6,
   "metadata": {},
   "outputs": [],
   "source": [
    "df = sqlContext.createDataFrame(rdd, schema)"
   ]
  },
  {
   "cell_type": "code",
   "execution_count": 7,
   "metadata": {},
   "outputs": [
    {
     "name": "stdout",
     "output_type": "stream",
     "text": [
      "+---+------------------+-------------------+-------------------+\n",
      "| id|     Customer Name|     Recruited Date|       Retired Date|\n",
      "+---+------------------+-------------------+-------------------+\n",
      "|  0|     Rose Williams|12/19/2018 07:41 AM|02/16/2020 10:09 PM|\n",
      "|  1|     Helen Scalise|05/15/2013 04:48 PM|04/13/2018 12:12 AM|\n",
      "|  2|     Ann Covington|08/14/2008 03:24 AM|10/11/2013 11:52 AM|\n",
      "|  3| Catherine Coleman|08/12/2008 10:04 PM|09/09/2016 07:27 AM|\n",
      "|  4|      Jason Besley|09/04/2000 06:16 PM|01/10/2008 11:56 PM|\n",
      "|  5|Woodrow Federgreen|07/28/2007 10:39 PM|03/04/2020 08:43 AM|\n",
      "|  6|Patricia Decourcey|10/27/2003 12:51 PM|11/25/2018 09:59 AM|\n",
      "|  7|         Rex Evans|10/31/2014 07:26 AM|08/12/2016 09:40 AM|\n",
      "|  8|  William Hatfield|04/22/2010 10:48 AM|08/21/2019 03:34 PM|\n",
      "|  9|    Pauline Landin|06/06/2007 07:17 PM|10/09/2010 05:26 PM|\n",
      "+---+------------------+-------------------+-------------------+\n",
      "only showing top 10 rows\n",
      "\n"
     ]
    }
   ],
   "source": [
    "df.show(10)"
   ]
  },
  {
   "cell_type": "code",
   "execution_count": null,
   "metadata": {},
   "outputs": [],
   "source": []
  },
  {
   "cell_type": "code",
   "execution_count": null,
   "metadata": {},
   "outputs": [],
   "source": []
  },
  {
   "cell_type": "code",
   "execution_count": null,
   "metadata": {},
   "outputs": [],
   "source": []
  },
  {
   "cell_type": "code",
   "execution_count": null,
   "metadata": {},
   "outputs": [],
   "source": []
  }
 ],
 "metadata": {
  "kernelspec": {
   "display_name": "Python 3",
   "language": "python",
   "name": "python3"
  },
  "language_info": {
   "codemirror_mode": {
    "name": "ipython",
    "version": 3
   },
   "file_extension": ".py",
   "mimetype": "text/x-python",
   "name": "python",
   "nbconvert_exporter": "python",
   "pygments_lexer": "ipython3",
   "version": "3.6.10"
  }
 },
 "nbformat": 4,
 "nbformat_minor": 4
}
