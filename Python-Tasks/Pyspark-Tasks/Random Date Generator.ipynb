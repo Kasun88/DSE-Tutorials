{
 "cells": [
  {
   "cell_type": "code",
   "execution_count": 9,
   "metadata": {},
   "outputs": [],
   "source": [
    "from numpy import random as r"
   ]
  },
  {
   "cell_type": "code",
   "execution_count": 2,
   "metadata": {},
   "outputs": [
    {
     "data": {
      "text/plain": [
       "0.45762270479937406"
      ]
     },
     "execution_count": 2,
     "metadata": {},
     "output_type": "execute_result"
    }
   ],
   "source": [
    "import random\n",
    "import time\n",
    "from datetime import datetime \n",
    "from datetime import timedelta \n",
    "from pyspark.sql import SQLContext\n",
    "from pyspark import SparkConf, SparkContext\n",
    "\n",
    "\n",
    "sc = SparkContext(conf=SparkConf().setAppName(\"Random Date Generator\").setMaster(\"local[2]\"))\n",
    "sqlContext=SQLContext(sc)\n",
    "\n",
    "random.random()\n"
   ]
  },
  {
   "cell_type": "code",
   "execution_count": 77,
   "metadata": {},
   "outputs": [
    {
     "name": "stdout",
     "output_type": "stream",
     "text": [
      "2020-08-18 01:56:00\n"
     ]
    }
   ],
   "source": [
    "def current_tomorrow():\n",
    "    \n",
    "    start = datetime.now().strftime('%m/%d/%Y %I:%M %p')\n",
    "    end = (datetime.now() + timedelta(days=1))  \n",
    "    end =  end.strftime('%m/%d/%Y %I:%M %p')\n",
    "    \n",
    "    hour_gen = -1\n",
    "    format = '%m/%d/%Y %I:%M %p'\n",
    "    \n",
    "    date = time.strptime(\"1/1/2000 1:00 AM\", format)\n",
    "    date = datetime.fromtimestamp(time.mktime(date))\n",
    "    \n",
    "    while(date<=datetime.now()):\n",
    "    \n",
    "        while(0>hour_gen or hour_gen>23):\n",
    "            hour_gen = r.poisson(lam=2, size=1)\n",
    "\n",
    "\n",
    "\n",
    "        stime = time.mktime(time.strptime(str(start), format))\n",
    "        etime = time.mktime(time.strptime(str(end), format))\n",
    "\n",
    "        ptime = stime + random.random() * (etime - stime)\n",
    "\n",
    "        random_time = time.strftime(format, time.localtime(ptime))\n",
    "        date = datetime.strptime(random_time,format).replace(hour = hour_gen)\n",
    "\n",
    "    return str(date)\n",
    "\n",
    "\n",
    "print(current_tomorrow())\n"
   ]
  },
  {
   "cell_type": "code",
   "execution_count": 72,
   "metadata": {},
   "outputs": [],
   "source": [
    "def current_week():\n",
    "    start = datetime.now().strftime('%m/%d/%Y %I:%M %p')\n",
    "    end = (datetime.now() + timedelta(weeks=1))  \n",
    "    end =  end.strftime('%m/%d/%Y %I:%M %p')\n",
    "    \n",
    "    format = '%m/%d/%Y %I:%M %p'\n",
    "    \n",
    "    date = time.strptime(\"1/1/2000 1:00 AM\", format)\n",
    "    date = datetime.fromtimestamp(time.mktime(date))\n",
    "    \n",
    "    while(date<=datetime.now()):\n",
    "    \n",
    "        print(type(date))\n",
    "\n",
    "        hour_gen = -1\n",
    "\n",
    "        while(0>hour_gen or hour_gen>23):\n",
    "            hour_gen = r.poisson(lam=2, size=1)\n",
    "\n",
    "\n",
    "        stime = time.mktime(time.strptime(str(start), format))\n",
    "        etime = time.mktime(time.strptime(str(end), format))\n",
    "\n",
    "        ptime = stime + random.random() * (etime - stime)\n",
    "\n",
    "        random_time = time.strftime(format, time.localtime(ptime))\n",
    "        date = datetime.strptime(random_time,format).replace(hour = hour_gen)\n",
    "\n",
    "    return str(date)"
   ]
  },
  {
   "cell_type": "code",
   "execution_count": 73,
   "metadata": {},
   "outputs": [
    {
     "name": "stdout",
     "output_type": "stream",
     "text": [
      "<class 'datetime.datetime'>\n",
      "2020-08-20 01:45:00\n"
     ]
    }
   ],
   "source": [
    "print(current_week())"
   ]
  },
  {
   "cell_type": "code",
   "execution_count": 25,
   "metadata": {},
   "outputs": [],
   "source": [
    "def current_month():\n",
    "    start = datetime.now().strftime('%m/%d/%Y %I:%M %p')\n",
    "    end = (datetime.now() + timedelta(weeks=4))  \n",
    "    end =  end.strftime('%m/%d/%Y %I:%M %p')\n",
    "    \n",
    "    hour_gen = -1\n",
    "    \n",
    "    while(0>hour_gen or hour_gen>23):\n",
    "        hour_gen = r.poisson(lam=2, size=1)\n",
    "    \n",
    "    format = '%m/%d/%Y %I:%M %p'\n",
    "    \n",
    "\n",
    "    stime = time.mktime(time.strptime(str(start), format))\n",
    "    etime = time.mktime(time.strptime(str(end), format))\n",
    "\n",
    "    ptime = stime + random.random() * (etime - stime)\n",
    "\n",
    "    random_time = time.strftime(format, time.localtime(ptime))\n",
    "    date = datetime.strptime(random_time,format).replace(hour = hour_gen)\n",
    "\n",
    "    return str(date)"
   ]
  },
  {
   "cell_type": "code",
   "execution_count": 27,
   "metadata": {},
   "outputs": [
    {
     "name": "stdout",
     "output_type": "stream",
     "text": [
      "2020-09-07 02:32:00\n"
     ]
    }
   ],
   "source": [
    "print(current_month())"
   ]
  },
  {
   "cell_type": "code",
   "execution_count": 34,
   "metadata": {},
   "outputs": [],
   "source": [
    "rdd= sc.parallelize(list(range(100))).map(lambda x :(x,current_tomorrow(),current_week(),current_month()))"
   ]
  },
  {
   "cell_type": "code",
   "execution_count": 35,
   "metadata": {},
   "outputs": [],
   "source": [
    "from pyspark.sql.types import StructType\n",
    "from pyspark.sql.types import StructField\n",
    "from pyspark.sql.types import StringType\n",
    "\n"
   ]
  },
  {
   "cell_type": "code",
   "execution_count": 36,
   "metadata": {},
   "outputs": [],
   "source": [
    "schema = StructType([StructField(\"id\", StringType(), True),\n",
    "                    StructField(\"current-tomorrow\", StringType(), True),\n",
    "                    StructField(\"current_week\", StringType(), True),\n",
    "                    StructField(\"current_month\", StringType(), True)])"
   ]
  },
  {
   "cell_type": "code",
   "execution_count": 37,
   "metadata": {},
   "outputs": [],
   "source": [
    "df = sqlContext.createDataFrame(rdd, schema)"
   ]
  },
  {
   "cell_type": "code",
   "execution_count": 38,
   "metadata": {},
   "outputs": [
    {
     "name": "stdout",
     "output_type": "stream",
     "text": [
      "root\n",
      " |-- id: string (nullable = true)\n",
      " |-- current-tomorrow: string (nullable = true)\n",
      " |-- current_week: string (nullable = true)\n",
      " |-- current_month: string (nullable = true)\n",
      "\n"
     ]
    }
   ],
   "source": [
    "df.printSchema()"
   ]
  },
  {
   "cell_type": "code",
   "execution_count": 39,
   "metadata": {},
   "outputs": [
    {
     "name": "stdout",
     "output_type": "stream",
     "text": [
      "+---+-------------------+-------------------+-------------------+\n",
      "| id|   current-tomorrow|       current_week|      current_month|\n",
      "+---+-------------------+-------------------+-------------------+\n",
      "|  0|2020-08-17 02:10:00|2020-08-18 03:09:00|2020-09-08 01:46:00|\n",
      "|  1|2020-08-17 01:56:00|2020-08-19 02:53:00|2020-09-01 02:00:00|\n",
      "|  2|2020-08-18 02:14:00|2020-08-20 02:32:00|2020-08-27 00:43:00|\n",
      "|  3|2020-08-18 05:32:00|2020-08-21 01:26:00|2020-09-01 03:16:00|\n",
      "|  4|2020-08-17 03:46:00|2020-08-23 00:49:00|2020-08-19 02:33:00|\n",
      "|  5|2020-08-18 02:16:00|2020-08-22 02:35:00|2020-08-22 00:58:00|\n",
      "|  6|2020-08-17 05:06:00|2020-08-21 03:57:00|2020-09-02 00:28:00|\n",
      "|  7|2020-08-18 01:37:00|2020-08-23 02:50:00|2020-08-18 00:00:00|\n",
      "|  8|2020-08-18 03:44:00|2020-08-19 04:49:00|2020-09-11 00:58:00|\n",
      "|  9|2020-08-17 02:33:00|2020-08-22 03:05:00|2020-09-09 02:03:00|\n",
      "+---+-------------------+-------------------+-------------------+\n",
      "only showing top 10 rows\n",
      "\n"
     ]
    }
   ],
   "source": [
    "df.show(10)"
   ]
  },
  {
   "cell_type": "code",
   "execution_count": null,
   "metadata": {},
   "outputs": [],
   "source": []
  }
 ],
 "metadata": {
  "kernelspec": {
   "display_name": "Python 3",
   "language": "python",
   "name": "python3"
  },
  "language_info": {
   "codemirror_mode": {
    "name": "ipython",
    "version": 3
   },
   "file_extension": ".py",
   "mimetype": "text/x-python",
   "name": "python",
   "nbconvert_exporter": "python",
   "pygments_lexer": "ipython3",
   "version": "3.6.10"
  }
 },
 "nbformat": 4,
 "nbformat_minor": 4
}
