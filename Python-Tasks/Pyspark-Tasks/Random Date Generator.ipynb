{
 "cells": [
  {
   "cell_type": "code",
   "execution_count": 9,
   "metadata": {},
   "outputs": [],
   "source": [
    "from numpy import random as r"
   ]
  },
  {
   "cell_type": "code",
   "execution_count": 2,
   "metadata": {},
   "outputs": [
    {
     "data": {
      "text/plain": [
       "0.45762270479937406"
      ]
     },
     "execution_count": 2,
     "metadata": {},
     "output_type": "execute_result"
    }
   ],
   "source": [
    "import random\n",
    "import time\n",
    "from datetime import datetime \n",
    "from datetime import timedelta \n",
    "from pyspark.sql import SQLContext\n",
    "from pyspark import SparkConf, SparkContext\n",
    "\n",
    "\n",
    "sc = SparkContext(conf=SparkConf().setAppName(\"Random Date Generator\").setMaster(\"local[2]\"))\n",
    "sqlContext=SQLContext(sc)\n",
    "\n",
    "random.random()\n"
   ]
  },
  {
   "cell_type": "code",
   "execution_count": 92,
   "metadata": {},
   "outputs": [
    {
     "name": "stdout",
     "output_type": "stream",
     "text": [
      "2020-08-18 01:03:00\n"
     ]
    }
   ],
   "source": [
    "def current_tomorrow():\n",
    "    \n",
    "    start = datetime.now().strftime('%m/%d/%Y %I:%M %p')\n",
    "    end = (datetime.now() + timedelta(days=1))  \n",
    "    end =  end.strftime('%m/%d/%Y %I:%M %p')\n",
    "    \n",
    "    hour_gen = -1\n",
    "    format = '%m/%d/%Y %I:%M %p'\n",
    "    \n",
    "    date = time.strptime(\"1/1/2000 1:00 AM\", format)\n",
    "    date = datetime.fromtimestamp(time.mktime(date))\n",
    "    \n",
    "    while((date<datetime.now()) or (date> (datetime.now() + timedelta(days=1)))):\n",
    "    \n",
    "        while(0>hour_gen or hour_gen>23):\n",
    "            hour_gen = r.poisson(lam=2, size=1)\n",
    "\n",
    "        stime = time.mktime(time.strptime(str(start), format))\n",
    "        etime = time.mktime(time.strptime(str(end), format))\n",
    "\n",
    "        ptime = stime + random.random() * (etime - stime)\n",
    "\n",
    "        random_time = time.strftime(format, time.localtime(ptime))\n",
    "        date = datetime.strptime(random_time,format).replace(hour = hour_gen)\n",
    "\n",
    "    return str(date)\n",
    "\n",
    "\n",
    "print(current_tomorrow())\n"
   ]
  },
  {
   "cell_type": "code",
   "execution_count": 94,
   "metadata": {},
   "outputs": [],
   "source": [
    "def current_week():\n",
    "    start = datetime.now().strftime('%m/%d/%Y %I:%M %p')\n",
    "    end = (datetime.now() + timedelta(weeks=1))  \n",
    "    end =  end.strftime('%m/%d/%Y %I:%M %p')\n",
    "    \n",
    "    format = '%m/%d/%Y %I:%M %p'\n",
    "    \n",
    "    date = time.strptime(\"1/1/2000 1:00 AM\", format)\n",
    "    date = datetime.fromtimestamp(time.mktime(date))\n",
    "    \n",
    "    while((date<datetime.now()) or (date> (datetime.now() + timedelta(weeks=1)))):\n",
    "    \n",
    "        print(type(date))\n",
    "\n",
    "        hour_gen = -1\n",
    "\n",
    "        while(0>hour_gen or hour_gen>23):\n",
    "            hour_gen = r.poisson(lam=2, size=1)\n",
    "\n",
    "\n",
    "        stime = time.mktime(time.strptime(str(start), format))\n",
    "        etime = time.mktime(time.strptime(str(end), format))\n",
    "\n",
    "        ptime = stime + random.random() * (etime - stime)\n",
    "\n",
    "        random_time = time.strftime(format, time.localtime(ptime))\n",
    "        date = datetime.strptime(random_time,format).replace(hour = hour_gen)\n",
    "\n",
    "    return str(date)"
   ]
  },
  {
   "cell_type": "code",
   "execution_count": 95,
   "metadata": {},
   "outputs": [
    {
     "name": "stdout",
     "output_type": "stream",
     "text": [
      "<class 'datetime.datetime'>\n",
      "2020-08-21 02:10:00\n"
     ]
    }
   ],
   "source": [
    "print(current_week())"
   ]
  },
  {
   "cell_type": "code",
   "execution_count": 96,
   "metadata": {},
   "outputs": [],
   "source": [
    "def current_month():\n",
    "    start = datetime.now().strftime('%m/%d/%Y %I:%M %p')\n",
    "    end = (datetime.now() + timedelta(weeks=4))  \n",
    "    end =  end.strftime('%m/%d/%Y %I:%M %p')\n",
    "    \n",
    "    hour_gen = -1\n",
    "    \n",
    "    format = '%m/%d/%Y %I:%M %p'\n",
    "    \n",
    "    date = time.strptime(\"1/1/2000 1:00 AM\", format)\n",
    "    date = datetime.fromtimestamp(time.mktime(date))\n",
    "    \n",
    "    while((date<datetime.now()) or (date> (datetime.now() + timedelta(weeks=4)))):\n",
    "    \n",
    "        while(0>hour_gen or hour_gen>23):\n",
    "            hour_gen = r.poisson(lam=2, size=1)\n",
    "\n",
    "\n",
    "        stime = time.mktime(time.strptime(str(start), format))\n",
    "        etime = time.mktime(time.strptime(str(end), format))\n",
    "\n",
    "        ptime = stime + random.random() * (etime - stime)\n",
    "\n",
    "        random_time = time.strftime(format, time.localtime(ptime))\n",
    "        date = datetime.strptime(random_time,format).replace(hour = hour_gen)\n",
    "\n",
    "    return str(date)"
   ]
  },
  {
   "cell_type": "code",
   "execution_count": 97,
   "metadata": {},
   "outputs": [
    {
     "name": "stdout",
     "output_type": "stream",
     "text": [
      "2020-09-10 02:05:00\n"
     ]
    }
   ],
   "source": [
    "print(current_month())"
   ]
  },
  {
   "cell_type": "code",
   "execution_count": 98,
   "metadata": {},
   "outputs": [],
   "source": [
    "rdd= sc.parallelize(list(range(100))).map(lambda x :(x,current_tomorrow(),current_week(),current_month()))"
   ]
  },
  {
   "cell_type": "code",
   "execution_count": 99,
   "metadata": {},
   "outputs": [],
   "source": [
    "from pyspark.sql.types import StructType\n",
    "from pyspark.sql.types import StructField\n",
    "from pyspark.sql.types import StringType\n",
    "\n"
   ]
  },
  {
   "cell_type": "code",
   "execution_count": 100,
   "metadata": {},
   "outputs": [],
   "source": [
    "schema = StructType([StructField(\"id\", StringType(), True),\n",
    "                    StructField(\"current-tomorrow\", StringType(), True),\n",
    "                    StructField(\"current_week\", StringType(), True),\n",
    "                    StructField(\"current_month\", StringType(), True)])"
   ]
  },
  {
   "cell_type": "code",
   "execution_count": 101,
   "metadata": {},
   "outputs": [],
   "source": [
    "df = sqlContext.createDataFrame(rdd, schema)"
   ]
  },
  {
   "cell_type": "code",
   "execution_count": 102,
   "metadata": {},
   "outputs": [
    {
     "name": "stdout",
     "output_type": "stream",
     "text": [
      "root\n",
      " |-- id: string (nullable = true)\n",
      " |-- current-tomorrow: string (nullable = true)\n",
      " |-- current_week: string (nullable = true)\n",
      " |-- current_month: string (nullable = true)\n",
      "\n"
     ]
    }
   ],
   "source": [
    "df.printSchema()"
   ]
  },
  {
   "cell_type": "code",
   "execution_count": 103,
   "metadata": {},
   "outputs": [
    {
     "name": "stdout",
     "output_type": "stream",
     "text": [
      "+---+-------------------+-------------------+-------------------+\n",
      "| id|   current-tomorrow|       current_week|      current_month|\n",
      "+---+-------------------+-------------------+-------------------+\n",
      "|  0|2020-08-18 02:17:00|2020-08-18 01:11:00|2020-08-29 03:49:00|\n",
      "|  1|2020-08-18 03:02:00|2020-08-23 01:47:00|2020-08-22 00:49:00|\n",
      "|  2|2020-08-18 01:01:00|2020-08-18 05:03:00|2020-08-26 04:51:00|\n",
      "|  3|2020-08-18 04:01:00|2020-08-21 02:31:00|2020-08-29 03:28:00|\n",
      "|  4|2020-08-18 01:30:00|2020-08-21 02:28:00|2020-09-03 03:30:00|\n",
      "|  5|2020-08-18 01:28:00|2020-08-24 03:46:00|2020-08-21 00:12:00|\n",
      "|  6|2020-08-18 03:08:00|2020-08-21 02:11:00|2020-09-08 03:59:00|\n",
      "|  7|2020-08-18 01:05:00|2020-08-20 03:49:00|2020-08-29 02:00:00|\n",
      "|  8|2020-08-18 03:51:00|2020-08-21 02:46:00|2020-08-19 00:09:00|\n",
      "|  9|2020-08-18 00:47:00|2020-08-19 02:12:00|2020-08-25 01:42:00|\n",
      "+---+-------------------+-------------------+-------------------+\n",
      "only showing top 10 rows\n",
      "\n"
     ]
    }
   ],
   "source": [
    "df.show(10)"
   ]
  },
  {
   "cell_type": "code",
   "execution_count": null,
   "metadata": {},
   "outputs": [],
   "source": []
  },
  {
   "cell_type": "code",
   "execution_count": null,
   "metadata": {},
   "outputs": [],
   "source": []
  }
 ],
 "metadata": {
  "kernelspec": {
   "display_name": "Python 3",
   "language": "python",
   "name": "python3"
  },
  "language_info": {
   "codemirror_mode": {
    "name": "ipython",
    "version": 3
   },
   "file_extension": ".py",
   "mimetype": "text/x-python",
   "name": "python",
   "nbconvert_exporter": "python",
   "pygments_lexer": "ipython3",
   "version": "3.6.10"
  }
 },
 "nbformat": 4,
 "nbformat_minor": 4
}
