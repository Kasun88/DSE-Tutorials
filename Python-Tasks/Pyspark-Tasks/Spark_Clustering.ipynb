{
 "cells": [
  {
   "cell_type": "code",
   "execution_count": 2,
   "metadata": {},
   "outputs": [],
   "source": [
    "from pyspark.ml.clustering import KMeans\n",
    "from pyspark.ml.feature import VectorAssembler,StandardScaler\n",
    "\n",
    "%matplotlib inline"
   ]
  },
  {
   "cell_type": "code",
   "execution_count": 3,
   "metadata": {},
   "outputs": [],
   "source": [
    "from pyspark.sql import SQLContext"
   ]
  },
  {
   "cell_type": "code",
   "execution_count": 4,
   "metadata": {},
   "outputs": [],
   "source": [
    "from pyspark import SparkConf, SparkContext\n",
    "\n",
    "sc = SparkContext(conf=SparkConf().setAppName(\"MyApp\").setMaster(\"local[2]\"))"
   ]
  },
  {
   "cell_type": "code",
   "execution_count": 5,
   "metadata": {},
   "outputs": [],
   "source": [
    "sqlContext=SQLContext(sc)"
   ]
  },
  {
   "cell_type": "code",
   "execution_count": 6,
   "metadata": {},
   "outputs": [],
   "source": [
    "df=sqlContext.read.load(\"minute_weather.csv\",format=\"com.databricks.spark.csv\",header='true',inferSchema=\"true\")"
   ]
  },
  {
   "cell_type": "code",
   "execution_count": 7,
   "metadata": {},
   "outputs": [
    {
     "data": {
      "text/plain": [
       "1587257"
      ]
     },
     "execution_count": 7,
     "metadata": {},
     "output_type": "execute_result"
    }
   ],
   "source": [
    "df.count()"
   ]
  },
  {
   "cell_type": "code",
   "execution_count": 8,
   "metadata": {},
   "outputs": [
    {
     "data": {
      "text/plain": [
       "['rowID',\n",
       " 'hpwren_timestamp',\n",
       " 'air_pressure',\n",
       " 'air_temp',\n",
       " 'avg_wind_direction',\n",
       " 'avg_wind_speed',\n",
       " 'max_wind_direction',\n",
       " 'max_wind_speed',\n",
       " 'min_wind_direction',\n",
       " 'min_wind_speed',\n",
       " 'rain_accumulation',\n",
       " 'rain_duration',\n",
       " 'relative_humidity']"
      ]
     },
     "execution_count": 8,
     "metadata": {},
     "output_type": "execute_result"
    }
   ],
   "source": [
    "df.columns"
   ]
  },
  {
   "cell_type": "code",
   "execution_count": 9,
   "metadata": {},
   "outputs": [
    {
     "name": "stdout",
     "output_type": "stream",
     "text": [
      "+-------+-----------------+------------------+------------------+------------------+-----------------+------------------+------------------+------------------+------------------+--------------------+------------------+-----------------+\n",
      "|summary|            rowID|      air_pressure|          air_temp|avg_wind_direction|   avg_wind_speed|max_wind_direction|    max_wind_speed|min_wind_direction|    min_wind_speed|   rain_accumulation|     rain_duration|relative_humidity|\n",
      "+-------+-----------------+------------------+------------------+------------------+-----------------+------------------+------------------+------------------+------------------+--------------------+------------------+-----------------+\n",
      "|  count|          1587257|           1587257|           1587257|           1586824|          1586824|           1586824|           1586824|           1586824|           1586824|             1587256|           1587256|          1587257|\n",
      "|   mean|         793628.0| 916.8301266904355| 61.85144042833238|161.96537927331576|2.774272067979729|163.40304784903682|3.3998134008569094|166.82637078844283|2.1331304542923206|0.001854836270897...|0.5361460281139274|47.60836877707868|\n",
      "| stddev|458201.7724491034|3.0515931266797334|11.833623786835483| 95.20811970204007|2.060757793563034|  92.3672342806411|2.4231674336171545|  97.4627462007766|1.7453450849327021|  0.9609715682155956|  81.1476564505365|26.21454390649868|\n",
      "|    min|                0|             905.0|             31.64|               0.0|              0.0|               0.0|               0.1|               0.0|               0.0|                 0.0|               0.0|              0.7|\n",
      "|    max|          1587256|             929.5|              99.5|             359.0|             32.3|             359.0|              36.0|             359.0|              32.0|              655.01|           63305.0|             93.0|\n",
      "+-------+-----------------+------------------+------------------+------------------+-----------------+------------------+------------------+------------------+------------------+--------------------+------------------+-----------------+\n",
      "\n"
     ]
    }
   ],
   "source": [
    "df.describe().show()"
   ]
  },
  {
   "cell_type": "code",
   "execution_count": 10,
   "metadata": {},
   "outputs": [
    {
     "data": {
      "text/plain": [
       "317452"
      ]
     },
     "execution_count": 10,
     "metadata": {},
     "output_type": "execute_result"
    }
   ],
   "source": [
    "# filter data by removing 10% data\n",
    "\n",
    "filterDf=df.filter((df.rowID%5)==0)\n",
    "filterDf.count()"
   ]
  },
  {
   "cell_type": "code",
   "execution_count": 16,
   "metadata": {},
   "outputs": [
    {
     "data": {
      "text/html": [
       "<div>\n",
       "<style scoped>\n",
       "    .dataframe tbody tr th:only-of-type {\n",
       "        vertical-align: middle;\n",
       "    }\n",
       "\n",
       "    .dataframe tbody tr th {\n",
       "        vertical-align: top;\n",
       "    }\n",
       "\n",
       "    .dataframe thead th {\n",
       "        text-align: right;\n",
       "    }\n",
       "</style>\n",
       "<table border=\"1\" class=\"dataframe\">\n",
       "  <thead>\n",
       "    <tr style=\"text-align: right;\">\n",
       "      <th></th>\n",
       "      <th>0</th>\n",
       "      <th>1</th>\n",
       "      <th>2</th>\n",
       "      <th>3</th>\n",
       "      <th>4</th>\n",
       "    </tr>\n",
       "  </thead>\n",
       "  <tbody>\n",
       "    <tr>\n",
       "      <th>summary</th>\n",
       "      <td>count</td>\n",
       "      <td>mean</td>\n",
       "      <td>stddev</td>\n",
       "      <td>min</td>\n",
       "      <td>max</td>\n",
       "    </tr>\n",
       "    <tr>\n",
       "      <th>rowID</th>\n",
       "      <td>158726</td>\n",
       "      <td>793625.0</td>\n",
       "      <td>458203.9375103623</td>\n",
       "      <td>0</td>\n",
       "      <td>1587250</td>\n",
       "    </tr>\n",
       "    <tr>\n",
       "      <th>air_pressure</th>\n",
       "      <td>158726</td>\n",
       "      <td>916.830161410252</td>\n",
       "      <td>3.051716552831359</td>\n",
       "      <td>905.0</td>\n",
       "      <td>929.5</td>\n",
       "    </tr>\n",
       "    <tr>\n",
       "      <th>air_temp</th>\n",
       "      <td>158726</td>\n",
       "      <td>61.85158915363659</td>\n",
       "      <td>11.833569210641672</td>\n",
       "      <td>31.64</td>\n",
       "      <td>99.5</td>\n",
       "    </tr>\n",
       "    <tr>\n",
       "      <th>avg_wind_direction</th>\n",
       "      <td>158680</td>\n",
       "      <td>162.15610032770354</td>\n",
       "      <td>95.27820101905958</td>\n",
       "      <td>0.0</td>\n",
       "      <td>359.0</td>\n",
       "    </tr>\n",
       "    <tr>\n",
       "      <th>avg_wind_speed</th>\n",
       "      <td>158680</td>\n",
       "      <td>2.7752148979077376</td>\n",
       "      <td>2.0576239697426337</td>\n",
       "      <td>0.0</td>\n",
       "      <td>31.9</td>\n",
       "    </tr>\n",
       "    <tr>\n",
       "      <th>max_wind_direction</th>\n",
       "      <td>158680</td>\n",
       "      <td>163.46214393748426</td>\n",
       "      <td>92.452138538387</td>\n",
       "      <td>0.0</td>\n",
       "      <td>359.0</td>\n",
       "    </tr>\n",
       "    <tr>\n",
       "      <th>max_wind_speed</th>\n",
       "      <td>158680</td>\n",
       "      <td>3.4005577262415194</td>\n",
       "      <td>2.4188016208098855</td>\n",
       "      <td>0.1</td>\n",
       "      <td>36.0</td>\n",
       "    </tr>\n",
       "    <tr>\n",
       "      <th>min_wind_direction</th>\n",
       "      <td>158680</td>\n",
       "      <td>166.77401688933702</td>\n",
       "      <td>97.44110914784576</td>\n",
       "      <td>0.0</td>\n",
       "      <td>359.0</td>\n",
       "    </tr>\n",
       "    <tr>\n",
       "      <th>min_wind_speed</th>\n",
       "      <td>158680</td>\n",
       "      <td>2.1346641038569323</td>\n",
       "      <td>1.7421125052424373</td>\n",
       "      <td>0.0</td>\n",
       "      <td>31.6</td>\n",
       "    </tr>\n",
       "    <tr>\n",
       "      <th>rain_accumulation</th>\n",
       "      <td>158725</td>\n",
       "      <td>3.178453299732835E-4</td>\n",
       "      <td>0.011235979086039847</td>\n",
       "      <td>0.0</td>\n",
       "      <td>3.12</td>\n",
       "    </tr>\n",
       "    <tr>\n",
       "      <th>rain_duration</th>\n",
       "      <td>158725</td>\n",
       "      <td>0.4096267128681682</td>\n",
       "      <td>8.66552269347984</td>\n",
       "      <td>0.0</td>\n",
       "      <td>2960.0</td>\n",
       "    </tr>\n",
       "    <tr>\n",
       "      <th>relative_humidity</th>\n",
       "      <td>158726</td>\n",
       "      <td>47.609469778107915</td>\n",
       "      <td>26.21440853506205</td>\n",
       "      <td>0.9</td>\n",
       "      <td>93.0</td>\n",
       "    </tr>\n",
       "  </tbody>\n",
       "</table>\n",
       "</div>"
      ],
      "text/plain": [
       "                         0                     1                     2      3  \\\n",
       "summary              count                  mean                stddev    min   \n",
       "rowID               158726              793625.0     458203.9375103623      0   \n",
       "air_pressure        158726      916.830161410252     3.051716552831359  905.0   \n",
       "air_temp            158726     61.85158915363659    11.833569210641672  31.64   \n",
       "avg_wind_direction  158680    162.15610032770354     95.27820101905958    0.0   \n",
       "avg_wind_speed      158680    2.7752148979077376    2.0576239697426337    0.0   \n",
       "max_wind_direction  158680    163.46214393748426       92.452138538387    0.0   \n",
       "max_wind_speed      158680    3.4005577262415194    2.4188016208098855    0.1   \n",
       "min_wind_direction  158680    166.77401688933702     97.44110914784576    0.0   \n",
       "min_wind_speed      158680    2.1346641038569323    1.7421125052424373    0.0   \n",
       "rain_accumulation   158725  3.178453299732835E-4  0.011235979086039847    0.0   \n",
       "rain_duration       158725    0.4096267128681682      8.66552269347984    0.0   \n",
       "relative_humidity   158726    47.609469778107915     26.21440853506205    0.9   \n",
       "\n",
       "                          4  \n",
       "summary                 max  \n",
       "rowID               1587250  \n",
       "air_pressure          929.5  \n",
       "air_temp               99.5  \n",
       "avg_wind_direction    359.0  \n",
       "avg_wind_speed         31.9  \n",
       "max_wind_direction    359.0  \n",
       "max_wind_speed         36.0  \n",
       "min_wind_direction    359.0  \n",
       "min_wind_speed         31.6  \n",
       "rain_accumulation      3.12  \n",
       "rain_duration        2960.0  \n",
       "relative_humidity      93.0  "
      ]
     },
     "execution_count": 16,
     "metadata": {},
     "output_type": "execute_result"
    }
   ],
   "source": [
    "filterDf.describe().toPandas().transpose()"
   ]
  },
  {
   "cell_type": "code",
   "execution_count": 17,
   "metadata": {},
   "outputs": [
    {
     "data": {
      "text/plain": [
       "157812"
      ]
     },
     "execution_count": 17,
     "metadata": {},
     "output_type": "execute_result"
    }
   ],
   "source": [
    "filterDf.filter(filterDf.rain_accumulation == 0).count()"
   ]
  },
  {
   "cell_type": "code",
   "execution_count": 18,
   "metadata": {},
   "outputs": [
    {
     "data": {
      "text/plain": [
       "157237"
      ]
     },
     "execution_count": 18,
     "metadata": {},
     "output_type": "execute_result"
    }
   ],
   "source": [
    "filterDf.filter(filterDf.rain_duration == 0).count()"
   ]
  },
  {
   "cell_type": "code",
   "execution_count": 19,
   "metadata": {},
   "outputs": [],
   "source": [
    "# Since Above Variables have lots of 0 values remove them from the data frame\n",
    "\n",
    "workingDf=filterDf.drop('rain_accumulation').drop('rain_duration').drop('hpwren_timestamp')"
   ]
  },
  {
   "cell_type": "code",
   "execution_count": 20,
   "metadata": {},
   "outputs": [
    {
     "data": {
      "text/plain": [
       "['rowID',\n",
       " 'air_pressure',\n",
       " 'air_temp',\n",
       " 'avg_wind_direction',\n",
       " 'avg_wind_speed',\n",
       " 'max_wind_direction',\n",
       " 'max_wind_speed',\n",
       " 'min_wind_direction',\n",
       " 'min_wind_speed',\n",
       " 'relative_humidity']"
      ]
     },
     "execution_count": 20,
     "metadata": {},
     "output_type": "execute_result"
    }
   ],
   "source": [
    "workingDf.columns"
   ]
  },
  {
   "cell_type": "code",
   "execution_count": 21,
   "metadata": {},
   "outputs": [
    {
     "data": {
      "text/plain": [
       "46"
      ]
     },
     "execution_count": 21,
     "metadata": {},
     "output_type": "execute_result"
    }
   ],
   "source": [
    "#Remove na dcount number of missing values in the new data frame\n",
    "\n",
    "before=workingDf.count()\n",
    "workingDf=workingDf.na.drop()\n",
    "after=workingDf.count()\n",
    "before-after"
   ]
  },
  {
   "cell_type": "code",
   "execution_count": 22,
   "metadata": {},
   "outputs": [],
   "source": [
    "featuresUsed=['air_pressure',\n",
    " 'air_temp',\n",
    " 'avg_wind_direction',\n",
    " 'avg_wind_speed',\n",
    " 'max_wind_direction',\n",
    " 'max_wind_speed',\n",
    " 'relative_humidity']"
   ]
  },
  {
   "cell_type": "code",
   "execution_count": 23,
   "metadata": {},
   "outputs": [],
   "source": [
    "assembler=VectorAssembler(inputCols=featuresUsed,outputCol=\"features_unscaled\")"
   ]
  },
  {
   "cell_type": "code",
   "execution_count": 24,
   "metadata": {},
   "outputs": [],
   "source": [
    "assembled=assembler.transform(workingDf)"
   ]
  },
  {
   "cell_type": "code",
   "execution_count": 25,
   "metadata": {},
   "outputs": [],
   "source": [
    "# Scaling Features\n",
    "\n",
    "scaler=StandardScaler(inputCol=\"features_unscaled\",outputCol=\"features\",withStd=True,withMean=True)\n",
    "scalerModel=scaler.fit(assembled)\n",
    "scaledData=scalerModel.transform(assembled)"
   ]
  },
  {
   "cell_type": "code",
   "execution_count": 26,
   "metadata": {},
   "outputs": [],
   "source": [
    "scaledData=scaledData.select(\"features\",\"rowID\")\n",
    "elbowset=scaledData.filter((scaledData.rowID%3)==0).select(\"features\")"
   ]
  },
  {
   "cell_type": "code",
   "execution_count": 27,
   "metadata": {},
   "outputs": [
    {
     "data": {
      "text/plain": [
       "DataFrame[features: vector]"
      ]
     },
     "execution_count": 27,
     "metadata": {},
     "output_type": "execute_result"
    }
   ],
   "source": [
    "# Use persist to keep elbowset in memory and make the process fast\n",
    "elbowset.persist()"
   ]
  },
  {
   "cell_type": "code",
   "execution_count": 43,
   "metadata": {},
   "outputs": [
    {
     "data": {
      "text/plain": [
       "DataFrame[features: vector]"
      ]
     },
     "execution_count": 43,
     "metadata": {},
     "output_type": "execute_result"
    }
   ],
   "source": [
    "scaledDataFeat=scaledData.select('features')\n",
    "scaledDataFeat.persist()"
   ]
  },
  {
   "cell_type": "code",
   "execution_count": 44,
   "metadata": {},
   "outputs": [],
   "source": [
    "kMeans=KMeans(k=12,seed=1)\n",
    "model=kMeans.fit(scaledDataFeat)"
   ]
  },
  {
   "cell_type": "code",
   "execution_count": 45,
   "metadata": {},
   "outputs": [],
   "source": [
    "transformed=model.transform(scaledDataFeat)"
   ]
  },
  {
   "cell_type": "code",
   "execution_count": 46,
   "metadata": {},
   "outputs": [
    {
     "data": {
      "text/plain": [
       "[array([-0.16566547,  0.85448149, -1.31151111, -0.58895341, -1.16838482,\n",
       "        -0.60439674, -0.6364679 ]),\n",
       " array([ 0.41691433, -0.98753852,  0.70550415, -0.54187353,  0.90244238,\n",
       "        -0.52156142,  1.0843019 ]),\n",
       " array([-1.17160552, -0.89138025,  0.44220135,  1.93226779,  0.53544953,\n",
       "         1.89401088,  0.93029236]),\n",
       " array([-0.80206962, -1.22440039,  0.3841726 ,  0.26485497,  0.48086319,\n",
       "         0.25434775,  1.4069788 ]),\n",
       " array([-0.8539949 ,  0.24450819,  0.15438223, -0.50784111,  0.31999836,\n",
       "        -0.52039833,  0.14122307]),\n",
       " array([ 0.23528561,  0.32423272,  1.88809848, -0.65298505, -1.55105546,\n",
       "        -0.57787145, -0.287234  ]),\n",
       " array([ 1.38392879, -0.08927944, -1.18167841, -0.06170904, -1.0474974 ,\n",
       "        -0.04146049, -0.98135819]),\n",
       " array([-0.16984403,  0.63162877,  0.41078545,  0.74631684,  0.51842117,\n",
       "         0.68293388, -0.17496862]),\n",
       " array([ 1.18816163, -0.25383448, -1.15547963,  2.12139724, -1.0537412 ,\n",
       "         2.23836726, -1.13402593]),\n",
       " array([ 0.35549386,  0.71454133,  0.26260954, -0.59430197,  0.4466514 ,\n",
       "        -0.60290529, -0.71081217]),\n",
       " array([ 0.08966026, -0.80737104, -1.20204396, -0.57214568, -1.04707652,\n",
       "        -0.58627605,  0.89212209]),\n",
       " array([ 0.1588403 ,  0.79971538,  1.42824098, -0.6355342 ,  1.69199735,\n",
       "        -0.58604278, -0.72633431])]"
      ]
     },
     "execution_count": 46,
     "metadata": {},
     "output_type": "execute_result"
    }
   ],
   "source": [
    "model.clusterCenters()"
   ]
  },
  {
   "cell_type": "code",
   "execution_count": null,
   "metadata": {},
   "outputs": [],
   "source": []
  }
 ],
 "metadata": {
  "kernelspec": {
   "display_name": "Python 3",
   "language": "python",
   "name": "python3"
  },
  "language_info": {
   "codemirror_mode": {
    "name": "ipython",
    "version": 3
   },
   "file_extension": ".py",
   "mimetype": "text/x-python",
   "name": "python",
   "nbconvert_exporter": "python",
   "pygments_lexer": "ipython3",
   "version": "3.6.10"
  }
 },
 "nbformat": 4,
 "nbformat_minor": 4
}
